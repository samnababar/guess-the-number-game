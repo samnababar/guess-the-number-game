{
  "nbformat": 4,
  "nbformat_minor": 0,
  "metadata": {
    "colab": {
      "provenance": []
    },
    "kernelspec": {
      "name": "python3",
      "display_name": "Python 3"
    },
    "language_info": {
      "name": "python"
    }
  },
  "cells": [
    {
      "cell_type": "code",
      "execution_count": 1,
      "metadata": {
        "colab": {
          "base_uri": "https://localhost:8080/"
        },
        "id": "YmSBne1Oc2kV",
        "outputId": "e08d9354-1cb6-443b-e3ee-b439da4b2918"
      },
      "outputs": [
        {
          "output_type": "stream",
          "name": "stdout",
          "text": [
            "Welcome to the Guess the Number Game!\n",
            "I'm thinking of a number between 1 and 100.\n",
            "\n",
            "Attempt 1 of 10\n",
            "Enter your guess: 68\n",
            "Too high! Try a lower number.\n",
            "\n",
            "Attempt 2 of 10\n",
            "Enter your guess: 70\n",
            "Too high! Try a lower number.\n",
            "\n",
            "Attempt 3 of 10\n",
            "Enter your guess: 30\n",
            "Too low! Try a higher number.\n",
            "\n",
            "Attempt 4 of 10\n",
            "Enter your guess: 41\n",
            "Too low! Try a higher number.\n",
            "\n",
            "Attempt 5 of 10\n",
            "Enter your guess: 44\n",
            "Too low! Try a higher number.\n",
            "\n",
            "Attempt 6 of 10\n",
            "Enter your guess: 700\n",
            "Too high! Try a lower number.\n",
            "\n",
            "Attempt 7 of 10\n",
            "Enter your guess: 39\n",
            "Too low! Try a higher number.\n",
            "\n",
            "Attempt 8 of 10\n",
            "Enter your guess: 90\n",
            "Too high! Try a lower number.\n",
            "\n",
            "Attempt 9 of 10\n",
            "Enter your guess: 58\n",
            "Congratulations! You guessed the number in 9 attempts!\n",
            "\n",
            "Would you like to play again? (yes/no): no\n",
            "Thanks for playing! Goodbye!\n"
          ]
        }
      ],
      "source": [
        "import random\n",
        "\n",
        "def guess_the_number():\n",
        "    print(\"Welcome to the Guess the Number Game!\")\n",
        "    print(\"I'm thinking of a number between 1 and 100.\")\n",
        "\n",
        "    secret_number = random.randint(1, 100)\n",
        "    attempts = 0\n",
        "    max_attempts = 10\n",
        "\n",
        "    while attempts < max_attempts:\n",
        "        print(f\"\\nAttempt {attempts + 1} of {max_attempts}\")\n",
        "        try:\n",
        "            guess = int(input(\"Enter your guess: \"))\n",
        "        except ValueError:\n",
        "            print(\"Please enter a valid number!\")\n",
        "            continue\n",
        "\n",
        "        if guess == secret_number:\n",
        "            print(f\"Congratulations! You guessed the number in {attempts + 1} attempts!\")\n",
        "            return\n",
        "        elif guess < secret_number:\n",
        "            print(\"Too low! Try a higher number.\")\n",
        "        else:\n",
        "            print(\"Too high! Try a lower number.\")\n",
        "        attempts += 1\n",
        "\n",
        "    print(f\"\\nGame over! You've used all {max_attempts} attempts.\")\n",
        "    print(f\"The secret number was {secret_number}.\")\n",
        "\n",
        "guess_the_number()\n",
        "\n",
        "while True:\n",
        "    play_again = input(\"\\nWould you like to play again? (yes/no): \").lower()\n",
        "    if play_again == 'yes':\n",
        "        guess_the_number()\n",
        "    elif play_again == 'no':\n",
        "        print(\"Thanks for playing! Goodbye!\")\n",
        "        break\n",
        "    else:\n",
        "        print(\"Please enter 'yes' or 'no'.\")"
      ]
    }
  ]
}